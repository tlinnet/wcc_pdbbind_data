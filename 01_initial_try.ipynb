{
 "cells": [
  {
   "cell_type": "code",
   "execution_count": 1,
   "metadata": {},
   "outputs": [],
   "source": [
    "from rdock import Rdock"
   ]
  },
  {
   "cell_type": "code",
   "execution_count": 2,
   "metadata": {},
   "outputs": [],
   "source": [
    "rd = Rdock('1gpk_ligand.sd','1gpk_rdock.mol2', debug=True)\n",
    "rd.dockruns = 12"
   ]
  },
  {
   "cell_type": "code",
   "execution_count": 3,
   "metadata": {},
   "outputs": [],
   "source": [
    "#rd._write_parmfile()\n",
    "#rd._make_activesite()\n",
    "#rd.dock()"
   ]
  },
  {
   "cell_type": "code",
   "execution_count": 4,
   "metadata": {},
   "outputs": [
    {
     "name": "stdout",
     "output_type": "stream",
     "text": [
      "RBT_PARAMETER_FILE_V1.00\n",
      "TITLE rDock_python_object_docking\n",
      "\n",
      "RECEPTOR_FILE 1gpk_rdock.mol2\n",
      "RECEPTOR_FLEX 3.0\n",
      "\n",
      "##################################################################\n",
      "### CAVITY DEFINITION: REFERENCE LIGAND METHOD\n",
      "##################################################################\n",
      "SECTION MAPPER\n",
      "    SITE_MAPPER RbtLigandSiteMapper\n",
      "    REF_MOL 1gpk_ligand.sd\n",
      "    RADIUS 6.0\n",
      "    SMALL_SPHERE 1.0\n",
      "    MIN_VOLUME 100\n",
      "    MAX_CAVITIES 1\n",
      "    VOL_INCR 0.0\n",
      "   GRIDSTEP 0.5\n",
      "END_SECTION\n",
      "\n",
      "\n",
      "#################################\n",
      "#CAVITY RESTRAINT PENALTY\n",
      "#################################\n",
      "SECTION CAVITY\n",
      "    SCORING_FUNCTION RbtCavityGridSF\n",
      "    WEIGHT 1.0\n",
      "END_SECTION\n",
      "rbcavity -r /tmp/tmph4ay5fx6 -was\n"
     ]
    },
    {
     "ename": "AttributeError",
     "evalue": "module 'os' has no attribute 'tmpfile'",
     "output_type": "error",
     "traceback": [
      "\u001b[0;31m---------------------------------------------------------------------------\u001b[0m",
      "\u001b[0;31mAttributeError\u001b[0m                            Traceback (most recent call last)",
      "\u001b[0;32m<ipython-input-4-8833e33606a5>\u001b[0m in \u001b[0;36m<module>\u001b[0;34m()\u001b[0m\n\u001b[0;32m----> 1\u001b[0;31m \u001b[0mrd\u001b[0m\u001b[0;34m.\u001b[0m\u001b[0mdock_parallel\u001b[0m\u001b[0;34m(\u001b[0m\u001b[0;34m)\u001b[0m\u001b[0;34m\u001b[0m\u001b[0m\n\u001b[0m",
      "\u001b[0;32m~/work/rdock.py\u001b[0m in \u001b[0;36mdock_parallel\u001b[0;34m(self, n)\u001b[0m\n\u001b[1;32m    134\u001b[0m                         \u001b[0;31m#print(dockfile)\u001b[0m\u001b[0;34m\u001b[0m\u001b[0;34m\u001b[0m\u001b[0m\n\u001b[1;32m    135\u001b[0m                         \u001b[0mcommand\u001b[0m \u001b[0;34m=\u001b[0m \u001b[0;34m'%s -r %s -p dock.prm -n %s -i %s -o %s -s %s'\u001b[0m \u001b[0;34m%\u001b[0m \u001b[0;34m(\u001b[0m\u001b[0mself\u001b[0m\u001b[0;34m.\u001b[0m\u001b[0mrdock\u001b[0m\u001b[0;34m,\u001b[0m \u001b[0mself\u001b[0m\u001b[0;34m.\u001b[0m\u001b[0mcustomfile\u001b[0m\u001b[0;34m,\u001b[0m \u001b[0mself\u001b[0m\u001b[0;34m.\u001b[0m\u001b[0mdockruns\u001b[0m\u001b[0;34m/\u001b[0m\u001b[0mn\u001b[0m\u001b[0;34m,\u001b[0m \u001b[0mligand\u001b[0m\u001b[0;34m,\u001b[0m \u001b[0mdockfile\u001b[0m\u001b[0;34m,\u001b[0m \u001b[0mrandom\u001b[0m\u001b[0;34m.\u001b[0m\u001b[0mrandint\u001b[0m\u001b[0;34m(\u001b[0m\u001b[0;36m0\u001b[0m\u001b[0;34m,\u001b[0m\u001b[0;36m100000000\u001b[0m\u001b[0;34m)\u001b[0m\u001b[0;34m)\u001b[0m\u001b[0;34m\u001b[0m\u001b[0m\n\u001b[0;32m--> 136\u001b[0;31m                         \u001b[0mf\u001b[0m\u001b[0;34m=\u001b[0m \u001b[0mos\u001b[0m\u001b[0;34m.\u001b[0m\u001b[0mtmpfile\u001b[0m\u001b[0;34m(\u001b[0m\u001b[0;34m)\u001b[0m\u001b[0;34m\u001b[0m\u001b[0m\n\u001b[0m\u001b[1;32m    137\u001b[0m                         \u001b[0;31m#f = tempfile.TemporaryFile()\u001b[0m\u001b[0;34m\u001b[0m\u001b[0;34m\u001b[0m\u001b[0m\n\u001b[1;32m    138\u001b[0m                         \u001b[0mp\u001b[0m \u001b[0;34m=\u001b[0m \u001b[0msubprocess\u001b[0m\u001b[0;34m.\u001b[0m\u001b[0mPopen\u001b[0m\u001b[0;34m(\u001b[0m\u001b[0mcommand\u001b[0m\u001b[0;34m.\u001b[0m\u001b[0msplit\u001b[0m\u001b[0;34m(\u001b[0m\u001b[0;34m\" \"\u001b[0m\u001b[0;34m)\u001b[0m\u001b[0;34m,\u001b[0m \u001b[0mstdout\u001b[0m \u001b[0;34m=\u001b[0m \u001b[0mf\u001b[0m\u001b[0;34m)\u001b[0m\u001b[0;34m\u001b[0m\u001b[0m\n",
      "\u001b[0;31mAttributeError\u001b[0m: module 'os' has no attribute 'tmpfile'"
     ]
    }
   ],
   "source": [
    "rd.dock_parallel()"
   ]
  },
  {
   "cell_type": "code",
   "execution_count": null,
   "metadata": {},
   "outputs": [],
   "source": [
    "#print(rd.get_best_rmsd())\n",
    "#print(rd.get_scores())"
   ]
  },
  {
   "cell_type": "code",
   "execution_count": null,
   "metadata": {},
   "outputs": [],
   "source": [
    "#rd.pymol()\n",
    "#del rd"
   ]
  },
  {
   "cell_type": "code",
   "execution_count": null,
   "metadata": {},
   "outputs": [],
   "source": []
  }
 ],
 "metadata": {
  "kernelspec": {
   "display_name": "Python 3",
   "language": "python",
   "name": "python3"
  },
  "language_info": {
   "codemirror_mode": {
    "name": "ipython",
    "version": 3
   },
   "file_extension": ".py",
   "mimetype": "text/x-python",
   "name": "python",
   "nbconvert_exporter": "python",
   "pygments_lexer": "ipython3",
   "version": "3.6.4"
  }
 },
 "nbformat": 4,
 "nbformat_minor": 2
}
